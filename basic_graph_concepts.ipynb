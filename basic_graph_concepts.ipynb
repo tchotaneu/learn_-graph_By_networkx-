{
 "cells": [
  {
   "cell_type": "markdown",
   "metadata": {},
   "source": [
    "\n",
    "##### *Dans ce petit tutoriel nous allons traiter les graphes non orientés*"
   ]
  },
  {
   "cell_type": "markdown",
   "metadata": {},
   "source": [
    "### 1.Creation d'un graphe "
   ]
  },
  {
   "cell_type": "code",
   "execution_count": 3,
   "metadata": {},
   "outputs": [],
   "source": [
    "# importation de la biboitheque ne networkx\n",
    "import networkx as nx \n",
    "# le graphe est vide \n",
    "G = nx.Graph()      "
   ]
  },
  {
   "cell_type": "markdown",
   "metadata": {},
   "source": [
    "### 2. Ajout des noeuds au graphe"
   ]
  },
  {
   "cell_type": "markdown",
   "metadata": {},
   "source": [
    "##### *2.1 Noeuds sans attributs*  ou *Noeuds sans poids* "
   ]
  },
  {
   "cell_type": "code",
   "execution_count": 4,
   "metadata": {},
   "outputs": [],
   "source": [
    "# les noeuds peuvent etre ajoute individuellement \n",
    "G.add_node(\"A\") \n",
    "# ou les noeuds peuvent etre ajouter globalement  par le biais d'une liste \n",
    "G.add_nodes_from([\"B\", \"C\"]) "
   ]
  },
  {
   "cell_type": "markdown",
   "metadata": {},
   "source": [
    "##### *2.2 Noeuds avec  attributs*  ou *Noeuds avec poids* "
   ]
  },
  {
   "cell_type": "code",
   "execution_count": 5,
   "metadata": {},
   "outputs": [],
   "source": [
    "# les noeuds peuvent etre ajoute individuellement \n",
    "G.add_node(\"D\", color=\"red\")  \n",
    "#ou les noeuds peuvent etre ajouter globalement  par le biais d'une liste \n",
    "G.add_nodes_from([(\"E\", {\"color\": \"red\"}), (\"F\", {\"color\": \"green\"})]) "
   ]
  },
  {
   "cell_type": "markdown",
   "metadata": {},
   "source": [
    "##### *2.3 Recuperer les Noeuds d'un autre graphe* "
   ]
  },
  {
   "cell_type": "code",
   "execution_count": 6,
   "metadata": {},
   "outputs": [],
   "source": [
    "H =nx.Graph()  \n",
    "#Le graphe H recuperer l'ensemble de noeuds du graphe G\n",
    "H.add_nodes_from(G)"
   ]
  },
  {
   "cell_type": "markdown",
   "metadata": {},
   "source": [
    "##### *2.4 Un graphe peut etre ajouté a un graphe comme un noeud*"
   ]
  },
  {
   "cell_type": "code",
   "execution_count": 7,
   "metadata": {},
   "outputs": [],
   "source": [
    "K=nx.Graph() \n",
    "K.add_node(H)\n",
    "K.add_node(G)\n",
    "# Le graphe K a deux noeuds , le noeud H et le noeud G qui sont eux meme des graphes. "
   ]
  },
  {
   "cell_type": "markdown",
   "metadata": {},
   "source": [
    "### 3. Ajout des arretes au graphe\n",
    "##### *Nous continuions avec notre graphe G*"
   ]
  },
  {
   "cell_type": "markdown",
   "metadata": {},
   "source": [
    "##### *3.1 Arretes  sans attributs*  ou *Arretes sans poids* "
   ]
  },
  {
   "cell_type": "code",
   "execution_count": 8,
   "metadata": {},
   "outputs": [],
   "source": [
    "# les arretes peuvent etre ajoute individuellement \n",
    "G.add_edge(\"A\", \"B\")\n",
    "#ou les arretes peuvent etre ajouter globalement  par le biais d'une liste \n",
    "G.add_edges_from([(\"G\", \"K\"), (\"L\", \"M\")])"
   ]
  },
  {
   "cell_type": "markdown",
   "metadata": {},
   "source": [
    "##### *3.2 Arretes avec attributs*  ou *Arretes avec poids* "
   ]
  },
  {
   "cell_type": "code",
   "execution_count": 9,
   "metadata": {},
   "outputs": [],
   "source": [
    "G.add_edge(\"D\", \"E\", weight=2 )\n",
    "G.add_edges_from([(\"E\", \"F\", {'color': 1}), (\"A\", \"E\", {'weight': 8})])"
   ]
  },
  {
   "cell_type": "markdown",
   "metadata": {},
   "source": [
    "##### *2.3 Recuperer les arretes  d'un autre graphe* "
   ]
  },
  {
   "cell_type": "code",
   "execution_count": 10,
   "metadata": {},
   "outputs": [],
   "source": [
    "H.add_edges_from(G.edges)"
   ]
  },
  {
   "cell_type": "code",
   "execution_count": 11,
   "metadata": {},
   "outputs": [
    {
     "name": "stdout",
     "output_type": "stream",
     "text": [
      "le nombre d'arrete est 6\n"
     ]
    }
   ],
   "source": [
    "number_edge=G.number_of_edges()\n",
    "print(\"le nombre d'arrete est\",number_edge)\n"
   ]
  },
  {
   "cell_type": "markdown",
   "metadata": {},
   "source": [
    "## 3. Operation de Base "
   ]
  },
  {
   "cell_type": "markdown",
   "metadata": {},
   "source": [
    "#### *3.1 le voiginage d'un noeuds dans un graphe  G*"
   ]
  },
  {
   "cell_type": "markdown",
   "metadata": {},
   "source": [
    "##### Nous disposons de deux methodes pour capturer les voisins d'un noeud dans un graphe "
   ]
  },
  {
   "cell_type": "code",
   "execution_count": 34,
   "metadata": {},
   "outputs": [
    {
     "name": "stdout",
     "output_type": "stream",
     "text": [
      "la liste des noeuds voisin au noeud A {'B': {'weight': 2}, 'C': {'weight': 3}}\n",
      "la liste des noeuds est :  ['B', 'C']\n",
      "la liste des noeuds voisin au noeud A  ['B', 'C']\n"
     ]
    }
   ],
   "source": [
    "############### premier methode ###################################\n",
    "Ensemble_des_voisins_Noeud=G.adj[\"A\"]  #renvoi l'Ensemble des  noeuds adjacents ou voisins a un noeud avec les attributs  sous forme d'un dictionnaire \n",
    "print(\"la liste des noeuds voisin au noeud A\",Ensemble_des_voisins_Noeud )\n",
    "print(\"la liste des noeuds est : \",list(Ensemble_des_voisins_Noeud))\n",
    "############### deuxieme methode ###################################\n",
    "liste_des_Voisins_Noeud=G.neighbors(\"A\") ##renvoie un itérateur sur les nœuds voisins de \"A\". Cet itérateur ne fournit que les nœuds voisins sans leur attibuts\n",
    "#pour etre affiche , on devra convertir le resultat de l'iterateur en liste \n",
    "print(\"la liste des noeuds voisin au noeud A \",list(liste_des_Voisins_Noeud))"
   ]
  },
  {
   "cell_type": "markdown",
   "metadata": {},
   "source": [
    "#### *3.2 le degré d'un noeuds dans un graphe G*"
   ]
  },
  {
   "cell_type": "markdown",
   "metadata": {},
   "source": [
    "##### *le degré d'un noeud est une valeur entier qui represente le nombre de voisins qu'un noeud possede dans le graphe*"
   ]
  },
  {
   "cell_type": "code",
   "execution_count": 35,
   "metadata": {},
   "outputs": [
    {
     "name": "stdout",
     "output_type": "stream",
     "text": [
      "le nombre de voisin du noeud A est de :  2\n",
      "les degre de chaque noeud correspond a l'entier associé a chaque noeud dans la liste de tuple:  [('A', 2), ('B', 1)]\n"
     ]
    }
   ],
   "source": [
    "#on peut determiner le nombre de voisin d'un seul noeud \n",
    "nombre_de_voisin=G.degree[\"A\"] \n",
    "print(\"le nombre de voisin du noeud A est de : \",nombre_de_voisin)\n",
    "#on peut determiner le nombre de voisin de plusieurs noeuds a la fois mais nous devons fournir une liste des noeuds \n",
    "nombre_de_voisin=G.degree([\"A\",\"B\"]) # le resultat sera une liste de tuple avec correspond a un noeud et son degré \"(noeud ,degré)\"\n",
    "print(\"les degre de chaque noeud correspond a l'entier associé a chaque noeud dans la liste de tuple: \",nombre_de_voisin)"
   ]
  },
  {
   "cell_type": "markdown",
   "metadata": {},
   "source": [
    "#### *3.3 le nombre de  noeuds et le nombre d'arretes d' un graphe G*"
   ]
  },
  {
   "cell_type": "code",
   "execution_count": 42,
   "metadata": {},
   "outputs": [
    {
     "name": "stdout",
     "output_type": "stream",
     "text": [
      "le graphe G dispose d'un total de  3 noeuds\n"
     ]
    }
   ],
   "source": [
    "nombre_Noeud_du_Graphe=G.number_of_nodes()\n",
    "print(\"le graphe G dispose d'un total de \",nombre_Noeud_du_Graphe,\"noeuds\")"
   ]
  },
  {
   "cell_type": "code",
   "execution_count": 43,
   "metadata": {},
   "outputs": [
    {
     "name": "stdout",
     "output_type": "stream",
     "text": [
      "le graphe G dispose d'un total de  2 arretes\n"
     ]
    }
   ],
   "source": [
    "nombre_arrete_du_Graphe=G.number_of_edges()\n",
    "print(\"le graphe G dispose d'un total de \",nombre_arrete_du_Graphe,\"arretes\")"
   ]
  },
  {
   "cell_type": "markdown",
   "metadata": {},
   "source": [
    "#### *3.4 la liste des noeuds et la list d\"arrete  d' un graphe G*"
   ]
  },
  {
   "cell_type": "markdown",
   "metadata": {},
   "source": [
    "#### *3.4.1 la liste des noeuds  d' un graphe G*"
   ]
  },
  {
   "cell_type": "code",
   "execution_count": 51,
   "metadata": {},
   "outputs": [
    {
     "name": "stdout",
     "output_type": "stream",
     "text": [
      "['A', 'B', 'C']\n"
     ]
    }
   ],
   "source": [
    "# Avoir l'ensemble de noeud d'un graphe \n",
    "liste_Noeud_Graphe=G.nodes\n",
    "print(\"la liste global de noeuds du graphe G est :\",liste_Noeud_Graphe)"
   ]
  },
  {
   "cell_type": "markdown",
   "metadata": {},
   "source": [
    "#### *3.4.2 la liste des noeuds  d' un graphe G*"
   ]
  },
  {
   "cell_type": "code",
   "execution_count": 52,
   "metadata": {},
   "outputs": [
    {
     "name": "stdout",
     "output_type": "stream",
     "text": [
      "la liste global de arretes  du graphe G est : [('A', 'B'), ('A', 'C')]\n"
     ]
    }
   ],
   "source": [
    "# Avoir l'ensemble des arretes  d'un graphe \n",
    "liste_Arrete_Graphe=G.edges\n",
    "print(\"la liste global de arretes  du graphe G est :\",liste_Arrete_Graphe)"
   ]
  },
  {
   "cell_type": "code",
   "execution_count": 55,
   "metadata": {},
   "outputs": [
    {
     "name": "stdout",
     "output_type": "stream",
     "text": [
      "[('A', 'B'), ('A', 'C')]\n"
     ]
    }
   ],
   "source": [
    "# on peut avoir une liste partielle des arretes  d'un graphe lies à une liste de Noeuds \n",
    "liste_arretePartielle_Graphe=G.edges([\"A\", \"B\"])\n",
    "print(liste_arretePartielle_Graphe)"
   ]
  },
  {
   "cell_type": "markdown",
   "metadata": {},
   "source": [
    "#### *3.5 Supprimer des éléments d'un graphique*\n",
    "\n",
    "##### *3.5.1 Supprimer des noeuds d'un graphique*\n"
   ]
  },
  {
   "cell_type": "code",
   "execution_count": 56,
   "metadata": {},
   "outputs": [
    {
     "name": "stdout",
     "output_type": "stream",
     "text": [
      "liste des noeuds avant suppression ['A', 'B', 'C']\n",
      "liste des noeuds apres suppression ['B', 'C']\n"
     ]
    }
   ],
   "source": [
    "#suppression d'un noeud \n",
    "print(\"liste des noeuds avant suppression\",G.nodes)\n",
    "#supprimer un noeuds \n",
    "G.remove_node(\"A\")\n",
    "print(\"liste des noeuds apres suppression\",G.nodes)"
   ]
  },
  {
   "cell_type": "code",
   "execution_count": 57,
   "metadata": {},
   "outputs": [
    {
     "name": "stdout",
     "output_type": "stream",
     "text": [
      "liste des noeuds avant suppression ['B', 'C']\n",
      "liste des noeuds apres suppression []\n"
     ]
    }
   ],
   "source": [
    "## suppresion d'une liste de Noeuds \n",
    "print(\"liste des noeuds avant suppression\",G.nodes)\n",
    "#supprimer d'une liste de noeuds \n",
    "G.remove_nodes_from([\"A\",\"B\",\"C\"])\n",
    "print(\"liste des noeuds apres suppression\",G.nodes)"
   ]
  },
  {
   "cell_type": "markdown",
   "metadata": {},
   "source": [
    "##### *3.5.2 Supprimer des arretes  d'un graphe*"
   ]
  },
  {
   "cell_type": "markdown",
   "metadata": {},
   "source": [
    "###### ***\"Il est important de noter que la suppression d'un nœud entraîne automatiquement la suppression des arêtes auxquelles ce nœud était lié.***"
   ]
  },
  {
   "cell_type": "code",
   "execution_count": 64,
   "metadata": {},
   "outputs": [
    {
     "name": "stdout",
     "output_type": "stream",
     "text": [
      "liste d'arretes  avant suppression [('A', 'E'), ('A', 'B'), ('D', 'E'), ('E', 'F'), ('G', 'K'), ('L', 'M')]\n",
      "liste d'arretes apres suppression [('A', 'E'), ('D', 'E'), ('E', 'F'), ('G', 'K'), ('L', 'M')]\n"
     ]
    }
   ],
   "source": [
    "G=H\n",
    "# # suppresion une arrete\n",
    "G.add_edge('A','B')\n",
    "print(\"liste d'arretes  avant suppression\",G.edges)\n",
    "G.remove_edge('A','B')\n",
    "print(\"liste d'arretes apres suppression\",G.edges)"
   ]
  },
  {
   "cell_type": "code",
   "execution_count": 65,
   "metadata": {},
   "outputs": [
    {
     "name": "stdout",
     "output_type": "stream",
     "text": [
      "liste d'arretes  avant suppression [('A', 'E'), ('D', 'E'), ('E', 'F'), ('G', 'K'), ('L', 'M')]\n",
      "liste d'arretes apres suppression [('A', 'E'), ('D', 'E'), ('E', 'F')]\n"
     ]
    }
   ],
   "source": [
    "## suppresion d'une liste d'arretes  \n",
    "print(\"liste d'arretes  avant suppression\",G.edges)\n",
    "#supprimer d'une liste d\"arretes \n",
    "G.remove_edges_from([('G', 'K'), ('L', 'M')])\n",
    "print(\"liste d'arretes apres suppression\",G.edges)"
   ]
  },
  {
   "cell_type": "markdown",
   "metadata": {},
   "source": [
    "#### 4. Generer un  d'un graphe aleatoire"
   ]
  },
  {
   "cell_type": "code",
   "execution_count": 68,
   "metadata": {},
   "outputs": [
    {
     "name": "stdout",
     "output_type": "stream",
     "text": [
      "le nombre d'arrete est de : 15\n",
      "la liste d'arrete est de : [(0, 1), (0, 3), (0, 4), (1, 3), (1, 9), (2, 4), (2, 6), (2, 9), (3, 4), (3, 8), (4, 7), (4, 9), (5, 6), (5, 7), (5, 8)]\n"
     ]
    }
   ],
   "source": [
    "\n",
    "# Définir le nombre de nœuds dans le graphe\n",
    "num_nodes = 10\n",
    "#definir la  probabilité pour qu'une arête soit présente entre deux nœuds.\n",
    "prob=0.3\n",
    "# Créer un graphe aléatoire avec 10 nœuds et des arêtes connectant les nœuds avec une probabilité  \"prob\"\n",
    "random_graph = nx.fast_gnp_random_graph(num_nodes, prob)\n",
    "#afficher quelques caracteristique de base \n",
    "print(\"le nombre d'arrete est de :\", random_graph.number_of_edges())\n",
    "print(\"la liste d'arrete est de :\", random_graph.edges())\n",
    "\n"
   ]
  }
 ],
 "metadata": {
  "kernelspec": {
   "display_name": "amine-env",
   "language": "python",
   "name": "python3"
  },
  "language_info": {
   "codemirror_mode": {
    "name": "ipython",
    "version": 3
   },
   "file_extension": ".py",
   "mimetype": "text/x-python",
   "name": "python",
   "nbconvert_exporter": "python",
   "pygments_lexer": "ipython3",
   "version": "3.6.13"
  },
  "orig_nbformat": 4
 },
 "nbformat": 4,
 "nbformat_minor": 2
}
