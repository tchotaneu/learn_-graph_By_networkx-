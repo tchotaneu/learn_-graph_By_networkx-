{
 "cells": [
  {
   "cell_type": "markdown",
   "metadata": {},
   "source": [
    "### 1.Creation d'un graphe "
   ]
  },
  {
   "cell_type": "code",
   "execution_count": 15,
   "metadata": {},
   "outputs": [],
   "source": [
    "# importation de la biboitheque ne networkx\n",
    "import networkx as nx \n",
    "# le graphe est vide \n",
    "G = nx.Graph()      "
   ]
  },
  {
   "cell_type": "markdown",
   "metadata": {},
   "source": [
    "### 2. Ajout des noeud au graphe"
   ]
  },
  {
   "cell_type": "markdown",
   "metadata": {},
   "source": [
    "##### *Noeuds sans attributs*  ou *Noeuds sans poids* "
   ]
  },
  {
   "cell_type": "code",
   "execution_count": 16,
   "metadata": {},
   "outputs": [],
   "source": [
    "# les noeuds peuvent etre ajoute individuellement \n",
    "G.add_node(\"A\") \n",
    "# ou les noeuds peuvent etre ajouter globalement  par le biais d'une liste \n",
    "G.add_nodes_from([\"B\", \"C\"]) "
   ]
  },
  {
   "cell_type": "markdown",
   "metadata": {},
   "source": [
    "##### *Noeuds avec  attributs*  ou *Noeuds avec poids* "
   ]
  },
  {
   "cell_type": "code",
   "execution_count": 17,
   "metadata": {},
   "outputs": [],
   "source": [
    "# les noeuds peuvent etre ajoute individuellement \n",
    "G.add_node(\"D\", color=\"red\")  \n",
    "#ou les noeuds peuvent etre ajouter globalement  par le biais d'une liste \n",
    "G.add_nodes_from([(\"E\", {\"color\": \"red\"}), (\"F\", {\"color\": \"green\"})]) "
   ]
  },
  {
   "cell_type": "markdown",
   "metadata": {},
   "source": [
    "##### *Recuperer les Noeuds d'un autre graphe* "
   ]
  },
  {
   "cell_type": "code",
   "execution_count": 20,
   "metadata": {},
   "outputs": [],
   "source": [
    "H =nx.Graph()  \n",
    "#Le graphe H recuperer l'ensemble de noeuds du graphe G\n",
    "H.add_nodes_from(G)"
   ]
  },
  {
   "cell_type": "markdown",
   "metadata": {},
   "source": []
  },
  {
   "cell_type": "code",
   "execution_count": null,
   "metadata": {},
   "outputs": [],
   "source": []
  }
 ],
 "metadata": {
  "kernelspec": {
   "display_name": "amine-env",
   "language": "python",
   "name": "python3"
  },
  "language_info": {
   "codemirror_mode": {
    "name": "ipython",
    "version": 3
   },
   "file_extension": ".py",
   "mimetype": "text/x-python",
   "name": "python",
   "nbconvert_exporter": "python",
   "pygments_lexer": "ipython3",
   "version": "3.6.13"
  },
  "orig_nbformat": 4
 },
 "nbformat": 4,
 "nbformat_minor": 2
}
