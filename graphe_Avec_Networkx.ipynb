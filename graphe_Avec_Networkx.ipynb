{
 "cells": [
  {
   "cell_type": "markdown",
   "metadata": {},
   "source": [
    "### creation d'un graphe "
   ]
  },
  {
   "cell_type": "code",
   "execution_count": 5,
   "metadata": {},
   "outputs": [],
   "source": [
    "import networkx as nx # importation de la biboitheque ne networkx\n",
    "G = nx.Graph()        # le graphe est vide "
   ]
  },
  {
   "cell_type": "markdown",
   "metadata": {},
   "source": [
    "### ajout des noeud au graphe"
   ]
  },
  {
   "cell_type": "markdown",
   "metadata": {},
   "source": [
    "#### noeud sans attributs "
   ]
  },
  {
   "cell_type": "code",
   "execution_count": 7,
   "metadata": {},
   "outputs": [],
   "source": [
    "G.add_node(\"A\") # les noeuds peuvent etre ajoute individuellement \n",
    "G.add_nodes_from([\"B\", \"C\"]) # ou les noeuds peuvent etre ajouter globalement  par le biais d'une liste "
   ]
  },
  {
   "cell_type": "markdown",
   "metadata": {},
   "source": [
    "#### noeud  avec  attributs  "
   ]
  },
  {
   "cell_type": "code",
   "execution_count": 8,
   "metadata": {},
   "outputs": [],
   "source": [
    "G.add_nodes_from([(\"D\", {\"color\": \"red\"}), (\"E\", {\"color\": \"green\"})])"
   ]
  }
 ],
 "metadata": {
  "kernelspec": {
   "display_name": "amine-env",
   "language": "python",
   "name": "python3"
  },
  "language_info": {
   "codemirror_mode": {
    "name": "ipython",
    "version": 3
   },
   "file_extension": ".py",
   "mimetype": "text/x-python",
   "name": "python",
   "nbconvert_exporter": "python",
   "pygments_lexer": "ipython3",
   "version": "3.6.13"
  },
  "orig_nbformat": 4
 },
 "nbformat": 4,
 "nbformat_minor": 2
}
