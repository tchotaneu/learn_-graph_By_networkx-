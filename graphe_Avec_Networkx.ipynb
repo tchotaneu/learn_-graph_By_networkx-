{
 "cells": [
  {
   "cell_type": "markdown",
   "metadata": {},
   "source": [
    "\n",
    "##### *Dans ce petit tutoriel nous allons traiter les graphes non orientés*"
   ]
  },
  {
   "cell_type": "markdown",
   "metadata": {},
   "source": [
    "### 1.Creation d'un graphe "
   ]
  },
  {
   "cell_type": "code",
   "execution_count": 1,
   "metadata": {},
   "outputs": [],
   "source": [
    "# importation de la biboitheque ne networkx\n",
    "import networkx as nx \n",
    "# le graphe est vide \n",
    "G = nx.Graph()      "
   ]
  },
  {
   "cell_type": "markdown",
   "metadata": {},
   "source": [
    "### 2. Ajout des noeuds au graphe"
   ]
  },
  {
   "cell_type": "markdown",
   "metadata": {},
   "source": [
    "##### *2.1 Noeuds sans attributs*  ou *Noeuds sans poids* "
   ]
  },
  {
   "cell_type": "code",
   "execution_count": 2,
   "metadata": {},
   "outputs": [],
   "source": [
    "# les noeuds peuvent etre ajoute individuellement \n",
    "G.add_node(\"A\") \n",
    "# ou les noeuds peuvent etre ajouter globalement  par le biais d'une liste \n",
    "G.add_nodes_from([\"B\", \"C\"]) "
   ]
  },
  {
   "cell_type": "markdown",
   "metadata": {},
   "source": [
    "##### *2.2 Noeuds avec  attributs*  ou *Noeuds avec poids* "
   ]
  },
  {
   "cell_type": "code",
   "execution_count": 3,
   "metadata": {},
   "outputs": [],
   "source": [
    "# les noeuds peuvent etre ajoute individuellement \n",
    "G.add_node(\"D\", color=\"red\")  \n",
    "#ou les noeuds peuvent etre ajouter globalement  par le biais d'une liste \n",
    "G.add_nodes_from([(\"E\", {\"color\": \"red\"}), (\"F\", {\"color\": \"green\"})]) "
   ]
  },
  {
   "cell_type": "markdown",
   "metadata": {},
   "source": [
    "##### *2.3 Recuperer les Noeuds d'un autre graphe* "
   ]
  },
  {
   "cell_type": "code",
   "execution_count": 4,
   "metadata": {},
   "outputs": [],
   "source": [
    "H =nx.Graph()  \n",
    "#Le graphe H recuperer l'ensemble de noeuds du graphe G\n",
    "H.add_nodes_from(G)"
   ]
  },
  {
   "cell_type": "markdown",
   "metadata": {},
   "source": [
    "##### *2.4 Un graphe peut etre ajouté a un graphe comme un noeud*"
   ]
  },
  {
   "cell_type": "code",
   "execution_count": 5,
   "metadata": {},
   "outputs": [],
   "source": [
    "K=nx.Graph() \n",
    "K.add_node(H)\n",
    "K.add_node(G)\n",
    "# Le graphe K a deux noeuds , le noeud H et le noeud G qui sont eux meme des graphes. "
   ]
  },
  {
   "cell_type": "markdown",
   "metadata": {},
   "source": [
    "### 3. Ajout des arretes au graphe\n",
    "##### *Nous continions avec notre graphe G*"
   ]
  },
  {
   "cell_type": "markdown",
   "metadata": {},
   "source": [
    "##### *3.1 Arretes  sans attributs*  ou *Arretes sans poids* "
   ]
  },
  {
   "cell_type": "code",
   "execution_count": 12,
   "metadata": {},
   "outputs": [],
   "source": [
    "# les arretes peuvent etre ajoute individuellement \n",
    "G.add_edge(\"A\", \"B\")\n",
    "#ou les arretes peuvent etre ajouter globalement  par le biais d'une liste \n",
    "G.add_edges_from([(\"G\", \"K\"), (\"L\", \"M\")])"
   ]
  },
  {
   "cell_type": "markdown",
   "metadata": {},
   "source": [
    "##### *3.2 Arretes avec attributs*  ou *Arretes avec poids* "
   ]
  },
  {
   "cell_type": "code",
   "execution_count": 13,
   "metadata": {},
   "outputs": [],
   "source": [
    "G.add_edge(\"D\", \"E\", weight=2 )\n",
    "G.add_edges_from([(\"E\", \"F\", {'color': 1}), (\"A\", \"E\", {'weight': 8})])"
   ]
  },
  {
   "cell_type": "markdown",
   "metadata": {},
   "source": [
    "##### *2.3 Recuperer les arretes  d'un autre graphe* "
   ]
  },
  {
   "cell_type": "code",
   "execution_count": null,
   "metadata": {},
   "outputs": [],
   "source": [
    "H.add_edges_from(G.edges)"
   ]
  },
  {
   "cell_type": "code",
   "execution_count": 14,
   "metadata": {},
   "outputs": [
    {
     "name": "stdout",
     "output_type": "stream",
     "text": [
      "le nombre d'arrete est 9\n"
     ]
    }
   ],
   "source": [
    "number_edge=G.number_of_edges()\n",
    "print(\"le nombre d'arrete est\",number_edge)\n"
   ]
  }
 ],
 "metadata": {
  "kernelspec": {
   "display_name": "amine-env",
   "language": "python",
   "name": "python3"
  },
  "language_info": {
   "codemirror_mode": {
    "name": "ipython",
    "version": 3
   },
   "file_extension": ".py",
   "mimetype": "text/x-python",
   "name": "python",
   "nbconvert_exporter": "python",
   "pygments_lexer": "ipython3",
   "version": "3.6.13"
  },
  "orig_nbformat": 4
 },
 "nbformat": 4,
 "nbformat_minor": 2
}
