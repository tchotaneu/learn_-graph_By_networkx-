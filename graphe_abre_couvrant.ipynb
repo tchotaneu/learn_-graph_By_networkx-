{
 "cells": [
  {
   "cell_type": "markdown",
   "metadata": {},
   "source": [
    "\n",
    "##### *Dans ce petit tutoriel nous allons traiter abres couvrant d'un  graphe*"
   ]
  },
  {
   "cell_type": "markdown",
   "metadata": {},
   "source": [
    "##### Objectif \n"
   ]
  },
  {
   "cell_type": "markdown",
   "metadata": {},
   "source": [
    "<ol>\n",
    "<li>definir la notion d'abre couvrant </li>\n",
    "<li>visualiser et construire un graphe </li>\n",
    "<li>appliquer les algorithme pour la detection des abres couvrant dans un graphe </li>\n",
    "<li>Ecrire l' algorithme en python pour la detection des abres couvrant dans un graphe </li>\n",
    "<li>faire aussi appel a fonction definir dans la library networkx  pour la detection des abres couvrant dans un graphe </li>\n",
    "</ol>"
   ]
  },
  {
   "cell_type": "markdown",
   "metadata": {},
   "source": [
    "### 1.Definition"
   ]
  },
  {
   "cell_type": "markdown",
   "metadata": {},
   "source": [
    "<img src=\"Images/Abre_Couvrant/01_abreCouvrant.png\" alt=\"Exemple d'image\" width=\"700\" height=\"400\">\n"
   ]
  },
  {
   "cell_type": "markdown",
   "metadata": {},
   "source": [
    "### 2.Construction du  graphe ci dessus"
   ]
  },
  {
   "cell_type": "code",
   "execution_count": 2,
   "metadata": {},
   "outputs": [],
   "source": [
    "import networkx as nx\n",
    "import matplotlib.pyplot as plt # pour avoir une visualisation de  notre graphe \n",
    "G=nx.Graph()\n",
    "G.add_node(\"abcdefg\") \n",
    "G.add_edges_from([(\"a\", \"b\", {'weight': 2}), (\"a\", \"g\", {'weight': 5}),\n",
    "                  (\"b\", \"g\", {'weight': 15}), (\"b\", \"d\", {'weight': 10}),(\"b\", \"e\", {'weight': 3}),\n",
    "                  (\"g\", \"c\", {'weight': 5}),(\"g\", \"d\", {'weight': 3}),\n",
    "                  (\"d\", \"e\", {'weight': 1}),(\"d\", \"c\", {'weight': 7}),\n",
    "                  (\"c\", \"f\", {'weight': 12}),(\"c\", \"e\", {'weight': 10}),\n",
    "                  (\"e\", \"f\", {'weight': 11}),\n",
    "                  ])"
   ]
  },
  {
   "cell_type": "markdown",
   "metadata": {},
   "source": [
    "### 3. ALgorthme d'abre couvrant d'un graphe "
   ]
  },
  {
   "cell_type": "markdown",
   "metadata": {},
   "source": [
    "Il existe principalement deux algorithmes couramment utilisés pour trouver un arbre couvrant dans un graphe :\n",
    "1. **Algorithme de Prim :** L'algorithme de Prim est également un algorithme glouton utilisé pour trouver un arbre couvrant minimal dans un graphe pondéré. Cependant, à la différence de Kruskal, il commence par sélectionner un nœud de départ arbitraire, puis il ajoute itérativement l'arête la plus légère connectant un nœud déjà inclus à l'arbre couvrant minimal à un nœud non inclus. Cet algorithme fonctionne bien pour les graphes denses et fortement connectés.\n",
    "\n",
    "2. **Algorithme de Kruskal :** L'algorithme de Kruskal est un algorithme glouton qui trouve un arbre couvrant minimal dans un graphe pondéré. Il commence par trier toutes les arêtes du graphe par poids croissant, puis il parcourt ces arêtes et ajoute chaque arête à l'arbre couvrant minimal si elle ne crée pas de cycle avec les arêtes déjà sélectionnées. Cet algorithme fonctionne bien pour les graphes denses et faiblement connectés.\n",
    "\n",
    "Ces deux algorithmes sont efficaces pour trouver un arbre couvrant minimal dans un graphe pondéré, mais le choix entre les deux dépend souvent de la structure et des caractéristiques du graphe."
   ]
  },
  {
   "cell_type": "markdown",
   "metadata": {},
   "source": [
    "### 4. comment verifier qu'un graphe est dense ?\n",
    "\n",
    "Un graphe est considéré comme dense lorsque le nombre d'arêtes est proche du nombre maximal possible d'arêtes pour son  nombre de nœuds qu\"a ce graphe .\n",
    "En general si \\( n \\) nœuds, le nombre maximal d'arêtes possible du graphe est \\(n(n-1)/2 \\) donc il faut que ce nombre d'arrets reel se rapproche du nombre maximal possible \n",
    "\n",
    "NB: Parfois on peut considerer que un  graphe est dense, s'il y a beaucoup d'arêtes par rapport au nombre de nœuds.\n",
    "\n"
   ]
  },
  {
   "cell_type": "markdown",
   "metadata": {},
   "source": [
    "### 5.comment verifier qu'un graphe est fortement connectés "
   ]
  },
  {
   "cell_type": "markdown",
   "metadata": {},
   "source": [
    "\n",
    "Pour vérifier si un graphe est fortement connecté, Nous  pouvons utiliser un algorithme de parcours de graphe tel que le parcours en profondeur (DFS) \n",
    "ou le parcours en largeur (BFS) à partir de chaque nœud. Si nous  pouvons atteindre tous les autres nœuds à partir de chaque nœud du graphe,\n",
    "alors le graphe est fortement connecté.\n",
    "\n",
    "\n",
    "NB : nous avons un graphe connexe  alors on peut à partir d'un noeud on atteindre n'importe qu'elle noeud du graphe . tout graphe connexe est un graphe fortement connecté "
   ]
  },
  {
   "cell_type": "markdown",
   "metadata": {},
   "source": [
    "### 5. definition et Application de de l'algorithme de Prim \n"
   ]
  },
  {
   "cell_type": "markdown",
   "metadata": {},
   "source": [
    "#### 5.1 definition de l'algorithme de Prim "
   ]
  },
  {
   "cell_type": "markdown",
   "metadata": {},
   "source": [
    "<ol>\n",
    " <li> Initialisation :</li> Sélectionnez un nœud de départ arbitraire pour commencer la construction de l'arbre couvrant minimal. Initialisez un ensemble vide pour stocker les arêtes de l'arbre couvrant minimal et un ensemble contenant tous les nœuds du graphique.\n",
    " <li> Sélection de l'arête la plus légère :</li>  À chaque itération, sélectionnez l'arête la plus légère qui relie un nœud de l'arbre couvrant minimal à un nœud hors de l'arbre couvrant minimal.\n",
    " <li> Ajout de l'arête sélectionnée : </li> Ajouter l'arête sélectionnée à l'ensemble des arêtes de l'arbre couvrant minimal.\n",
    " <li> Mise à jour de l'ensemble des nœuds :</li>  Ajouter le nœud nouvellement atteint à l'ensemble des nœuds de l'arbre couvrant minimal.\n",
    " <li> Répétez les étapes 2 à 4 :</li>  Répétez les étapes 2 à 4 jusqu'à ce que tous les nœuds du graphe soient inclus dans l'arbre couvrant minimal.\n",
    "</ol>"
   ]
  },
  {
   "cell_type": "markdown",
   "metadata": {},
   "source": [
    "#### 5.2 Application de l'algorithme de Prim  sur notre graphe de depart "
   ]
  },
  {
   "cell_type": "markdown",
   "metadata": {},
   "source": [
    "##### Etape 1: *Initialisation*"
   ]
  },
  {
   "cell_type": "markdown",
   "metadata": {},
   "source": [
    "\n",
    "<img src=\"Images/Abre_Couvrant/02_abreCouvrant.png\" alt=\"Exemple d'image\" width=\"700\" height=\"400\">\n"
   ]
  },
  {
   "cell_type": "markdown",
   "metadata": {},
   "source": [
    "##### Etape 2: *Selection de l'arrêt la plus legere c'est a dire celle qui est a le plus petit poids et qui est relies a notre abre couvrant 'd'*"
   ]
  },
  {
   "cell_type": "markdown",
   "metadata": {},
   "source": [
    "<img src=\"Images/Abre_Couvrant/03_abreCouvrant.png\" alt=\"Exemple d'image\" width=\"700\" height=\"500\">"
   ]
  },
  {
   "cell_type": "markdown",
   "metadata": {},
   "source": [
    "### 6. code pyton de l'algorithme de Prim  sur notre graphe de depart "
   ]
  },
  {
   "cell_type": "code",
   "execution_count": null,
   "metadata": {},
   "outputs": [],
   "source": [
    "\n",
    "def prim(graph):\n",
    "    mst_edges = []  # Arbre couvrant minimal (liste des arêtes)\n",
    "    visited = set()  # Ensemble des nœuds visités\n",
    "    min_heap = []  # Tas binaire pour stocker les arêtes\n",
    "\n",
    "    # Sélectionner un nœud de départ arbitraire\n",
    "    start_node = next(iter(graph))\n",
    "    visited.add(start_node)\n",
    "\n",
    "    # Ajouter les arêtes sortant du nœud de départ dans le tas binaire\n",
    "    for neighbor, weight in graph[start_node].items():\n",
    "        min_heap.append((weight, start_node, neighbor))\n",
    "    heapq.heapify(min_heap)\n",
    "\n",
    "    # Boucler jusqu'à ce que tous les nœuds soient visités\n",
    "    while min_heap:\n",
    "        weight, u, v = heapq.heappop(min_heap)\n",
    "\n",
    "        # Si le nœud de destination n'a pas été visité\n",
    "        if v not in visited:\n",
    "            # Ajouter l'arête à l'arbre couvrant minimal\n",
    "            mst_edges.append((u, v, weight))\n",
    "            # Ajouter le nœud de destination à l'ensemble des nœuds visités\n",
    "            visited.add(v)\n",
    "            # Ajouter les arêtes sortant du nœud de destination dans le tas binaire\n",
    "            for neighbor, weight in graph[v].items():\n",
    "                if neighbor not in visited:\n",
    "                    heapq.heappush(min_heap, (weight, v, neighbor))\n",
    "\n",
    "    return mst_edges\n",
    "\n",
    "\n",
    "# Convertir le graphe en un dictionnaire pour utiliser l'algorithme de Prim\n",
    "graph = nx.to_dict_of_dicts(G)\n",
    "\n",
    "# Calculer l'arbre couvrant minimal avec l'algorithme de Prim\n",
    "mst_edges = prim(graph)\n",
    "\n",
    "# Créer un graphe à partir des arêtes de l'arbre couvrant minimal\n",
    "mst_graph = nx.Graph()\n",
    "mst_graph.add_weighted_edges_from(mst_edges)\n",
    "\n",
    "# Dessiner le graphe original\n",
    "plt.subplot(121)\n",
    "nx.draw(G, with_labels=True, node_color='skyblue', node_size=800, edge_color='k', linewidths=1, font_size=12)\n",
    "plt.title(\"Graphe original\")\n",
    "\n",
    "# Dessiner l'arbre couvrant minimal\n",
    "plt.subplot(122)\n",
    "nx.draw(mst_graph, with_labels=True, node_color='skyblue', node_size=800, edge_color='green', linewidths=2, font_size=12)\n",
    "plt.title(\"Arbre couvrant minimal (Prim)\")\n",
    "\n",
    "# Afficher les graphes\n",
    "plt.tight_layout()\n",
    "plt.show()"
   ]
  }
 ],
 "metadata": {
  "kernelspec": {
   "display_name": "amine-env",
   "language": "python",
   "name": "python3"
  },
  "language_info": {
   "codemirror_mode": {
    "name": "ipython",
    "version": 3
   },
   "file_extension": ".py",
   "mimetype": "text/x-python",
   "name": "python",
   "nbconvert_exporter": "python",
   "pygments_lexer": "ipython3",
   "version": "3.6.13"
  },
  "orig_nbformat": 4
 },
 "nbformat": 4,
 "nbformat_minor": 2
}
