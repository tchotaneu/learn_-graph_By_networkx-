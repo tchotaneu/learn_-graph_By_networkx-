{
 "cells": [
  {
   "cell_type": "markdown",
   "metadata": {},
   "source": [
    "\n",
    "##### *Dans ce petit tutoriel nous allons traiter abres couvrant d'un  graphe*"
   ]
  },
  {
   "cell_type": "markdown",
   "metadata": {},
   "source": [
    "##### Objectif \n"
   ]
  },
  {
   "cell_type": "markdown",
   "metadata": {},
   "source": [
    "<ol>\n",
    "<li>definir la notion d'abre couvrant </li>\n",
    "<li>appliquer les algorithme pour la detection des abres couvrant dans un graphe </li>\n",
    "<li>Ecrire l' algorithme en python pour la detection des abres couvrant dans un graphe </li>\n",
    "<li>faire aussi appel a fonction definir dans la library networkx  pour la detection des abres couvrant dans un graphe </li>\n",
    "</ol>"
   ]
  },
  {
   "cell_type": "markdown",
   "metadata": {},
   "source": [
    "<img src=\"Images/Abre_Couvrant/01_abre_couvrant.png\" alt=\"Exemple d'image\" width=\"700\" height=\"400\">\n"
   ]
  },
  {
   "cell_type": "markdown",
   "metadata": {},
   "source": [
    "### 1.Construction du  graphe ci dessus"
   ]
  },
  {
   "cell_type": "code",
   "execution_count": 6,
   "metadata": {},
   "outputs": [],
   "source": [
    "import networkx as nx\n",
    "G=nx.Graph()\n",
    "G.add_node(\"abcdefg\") \n",
    "G.add_edges_from([(\"a\", \"b\", {'weight': 2}), (\"a\", \"g\", {'weight': 5}),\n",
    "                  (\"b\", \"g\", {'weight': 15}), (\"b\", \"d\", {'weight': 10}),(\"b\", \"e\", {'weight': 3}),\n",
    "                  (\"g\", \"c\", {'weight': 5}),(\"g\", \"d\", {'weight': 3}),\n",
    "                  (\"d\", \"e\", {'weight': 1}),(\"d\", \"c\", {'weight': 7}),\n",
    "                  (\"c\", \"f\", {'weight': 12}),(\"c\", \"e\", {'weight': 10}),\n",
    "                  (\"e\", \"f\", {'weight': 11}),\n",
    "                  ])"
   ]
  },
  {
   "cell_type": "code",
   "execution_count": null,
   "metadata": {},
   "outputs": [],
   "source": []
  }
 ],
 "metadata": {
  "kernelspec": {
   "display_name": "amine-env",
   "language": "python",
   "name": "python3"
  },
  "language_info": {
   "codemirror_mode": {
    "name": "ipython",
    "version": 3
   },
   "file_extension": ".py",
   "mimetype": "text/x-python",
   "name": "python",
   "nbconvert_exporter": "python",
   "pygments_lexer": "ipython3",
   "version": "3.6.13"
  },
  "orig_nbformat": 4
 },
 "nbformat": 4,
 "nbformat_minor": 2
}
