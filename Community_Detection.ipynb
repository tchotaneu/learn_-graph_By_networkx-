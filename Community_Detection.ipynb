{
  "cells": [
    {
      "cell_type": "markdown",
      "metadata": {},
      "source": [
        "\n",
        "## objectifs : detection de communauté dans un Graphe \n",
        "<p> <ol> \n",
        "<li> Ecrire l'algorithe de Girvan Newman en python</li> \n",
        "<li>visualiser les communaute dans le graphe </li>\n",
        "<li> appliquer cl'algorithme de Givann Newman disponible dans la library networkx </li>\n",
        "</ol></p>\n"
      ]
    },
    {
      "cell_type": "markdown",
      "metadata": {},
      "source": [
        "### l'algorithme de Girvan en python "
      ]
    }
  ],
  "metadata": {
    "kernelspec": {
      "display_name": "Python 3",
      "language": "python",
      "name": "python3"
    },
    "language_info": {
      "codemirror_mode": {
        "name": "ipython",
        "version": 3
      },
      "file_extension": ".py",
      "mimetype": "text/x-python",
      "name": "python",
      "nbconvert_exporter": "python",
      "pygments_lexer": "ipython3",
      "version": "3.6.13"
    }
  },
  "nbformat": 4,
  "nbformat_minor": 0
}
